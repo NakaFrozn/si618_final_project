{
  "cells": [
    {
      "cell_type": "markdown",
      "metadata": {
        "id": "Cg1VHkUtX287"
      },
      "source": [
        "# Project Title:"
      ]
    },
    {
      "cell_type": "markdown",
      "metadata": {},
      "source": [
        "Team Members: Francisco Brady (fbrady), Zhonghan Xie (jonasxie)  \n",
        "Date: 2024-10-15"
      ]
    },
    {
      "cell_type": "markdown",
      "metadata": {},
      "source": [
        "## Introduction\n",
        "### Overview of the Project\n",
        "The inflation of the last few years has affected all areas of the economy, and for graduate students who are looking to move on to the next stage of their lives, the cost of living is a major concern. One of the largest components of the cost of living is housing. For this project, we will be analyzing the housing market in New York City, to determine the impact of rising house prices. In addition, we will be looking at the relationship between house prices and the rate of evictions in the city."
      ]
    },
    {
      "cell_type": "markdown",
      "metadata": {},
      "source": [
        "### Motivations"
      ]
    },
    {
      "cell_type": "markdown",
      "metadata": {},
      "source": [
        "## Data Sources\n",
        "\n",
        "House price data: We use the house value index as the proxy of the average house price in each neighborhood in New York City. We pulled the data from [Zillow Research](https://www.zillow.com/research/data/?msockid=38d5e17d86ff660f269ef545876967bd), the research department of a real-estate marketplace company. The data is available at the neighborhood level and is updated monthly."
      ]
    },
    {
      "cell_type": "markdown",
      "metadata": {},
      "source": [
        "## Data Description"
      ]
    },
    {
      "cell_type": "markdown",
      "metadata": {},
      "source": [
        "## Data Manipulation"
      ]
    },
    {
      "cell_type": "markdown",
      "metadata": {},
      "source": [
        "## Data Visualization"
      ]
    }
  ],
  "metadata": {
    "colab": {
      "authorship_tag": "ABX9TyNxI56m/riRi9MhwzlXOkuT",
      "provenance": []
    },
    "kernelspec": {
      "display_name": "Python 3",
      "name": "python3"
    },
    "language_info": {
      "name": "python",
      "version": "3.12.5"
    }
  },
  "nbformat": 4,
  "nbformat_minor": 0
}
