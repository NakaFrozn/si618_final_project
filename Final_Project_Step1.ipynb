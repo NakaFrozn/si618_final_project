{
  "cells": [
    {
      "cell_type": "markdown",
      "metadata": {
        "id": "Cg1VHkUtX287"
      },
      "source": [
        "# Project Title:"
      ]
    },
    {
      "cell_type": "markdown",
      "metadata": {},
      "source": [
        "Team Members: Francisco Brady (fbrady), Zhonghan Xie (jonasxie)  \n",
        "Date: 2024-10-15"
      ]
    },
    {
      "cell_type": "markdown",
      "metadata": {},
      "source": [
        "## Introduction\n",
        "### Overview of the Project"
      ]
    },
    {
      "cell_type": "markdown",
      "metadata": {},
      "source": [
        "### Motivations"
      ]
    },
    {
      "cell_type": "markdown",
      "metadata": {},
      "source": [
        "## Data Sources"
      ]
    },
    {
      "cell_type": "markdown",
      "metadata": {},
      "source": [
        "## Data Description"
      ]
    },
    {
      "cell_type": "markdown",
      "metadata": {},
      "source": [
        "## Data Manipulation"
      ]
    },
    {
      "cell_type": "markdown",
      "metadata": {},
      "source": [
        "## Data Visualization"
      ]
    }
  ],
  "metadata": {
    "colab": {
      "authorship_tag": "ABX9TyNxI56m/riRi9MhwzlXOkuT",
      "provenance": []
    },
    "kernelspec": {
      "display_name": "Python 3",
      "name": "python3"
    },
    "language_info": {
      "name": "python",
      "version": "3.12.5"
    }
  },
  "nbformat": 4,
  "nbformat_minor": 0
}
