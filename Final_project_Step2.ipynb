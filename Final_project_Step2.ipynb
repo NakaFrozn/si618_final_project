{
 "cells": [
  {
   "cell_type": "markdown",
   "metadata": {},
   "source": [
    "# Investigating Factors of Rising House Values in New York City: Step 2 (Analysis)"
   ]
  },
  {
   "cell_type": "markdown",
   "metadata": {},
   "source": [
    "Team Members: Francisco Brady (fbrady), Zhonghan Xie (jonasxie), Michael Garner (mngarner)  \n",
    "Date: 2024-11-06"
   ]
  },
  {
   "cell_type": "markdown",
   "metadata": {},
   "source": [
    "## Background and Guiding Questions"
   ]
  },
  {
   "cell_type": "markdown",
   "metadata": {},
   "source": [
    "As house prices continue to rise in New York City, the ripple effects on communities are profound. For example, the median home price in NYC reached approximately \\$754,000 as of September 2024, 29.5\\% increase from that of September 2017. While rapidly increasing property values may signal economic growth, they also contribute to housing instability and displacement, particularly among lower-income residents. At the same time, access to quality educational resources remains a crucial factor for many families in deciding where to live. In areas where public schools are highly rated and well-attended, home prices often exceed city averages, reflecting the economic value of educational resources placed on educational quality. This project aims to investigate the factors that contribute to rising house prices in NYC, their impact on eviction rates and the intersection between educational outcomes and housing markets. By understanding these relationships, we hope to inform policymakers and community stakeholders on how to address the challenges of access to quality education, housing affordability and stability in the city.\n",
    "\n",
    "Three questions that we seek to answer in an analysis of housing price, eviction rate, and educational datasets for NYC are:\n",
    "1. What impact does rising housing prices have on eviction rates in NYC? Are these strongly correlated?\n",
    "2. Does the change in eviction rate due to housing prices predict a change in primary/secondary education attendance? Specifically: do neighborhoods with higher eviction rates, potentially due to rising housing costs, see a decrease in school attendance?\n",
    "3. How do the relationships between housing prices, eviction rates, and education vary across different neighborhoods in NYC? Do the predictive relationships differ in locations with different socioeconomic characteristics?"
   ]
  },
  {
   "cell_type": "markdown",
   "metadata": {},
   "source": [
    "## Descriptive Statistics"
   ]
  },
  {
   "cell_type": "markdown",
   "metadata": {},
   "source": [
    "Guidance:\n",
    "\n",
    "Provide a comprehensive summary of your combined dataset using descriptive statistics. This should include means, medians, modes, ranges, variance, and standard deviations for the relevant features of your data.  The descriptive statistics should inform your guiding questions that you developed in Part I of the project, rather than merely providing an overview of your data.  Interpret these results to draw preliminary conclusions about the data."
   ]
  },
  {
   "cell_type": "code",
   "execution_count": 2,
   "metadata": {},
   "outputs": [],
   "source": [
    "# Import libraries and data\n",
    "import pandas as pd\n",
    "import numpy as np\n",
    "import matplotlib.pyplot as plt\n",
    "import seaborn as sns\n",
    "import statsmodels.api as sm\n",
    "import statsmodels.formula.api as smf"
   ]
  },
  {
   "cell_type": "code",
   "execution_count": 4,
   "metadata": {},
   "outputs": [],
   "source": [
    "# Will change with merged data, but import data\n",
    "allData = pd.read_csv('./data/analytic_dataset.csv')"
   ]
  },
  {
   "cell_type": "code",
   "execution_count": null,
   "metadata": {},
   "outputs": [
    {
     "data": {
      "text/html": [
       "<div>\n",
       "<style scoped>\n",
       "    .dataframe tbody tr th:only-of-type {\n",
       "        vertical-align: middle;\n",
       "    }\n",
       "\n",
       "    .dataframe tbody tr th {\n",
       "        vertical-align: top;\n",
       "    }\n",
       "\n",
       "    .dataframe thead th {\n",
       "        text-align: right;\n",
       "    }\n",
       "</style>\n",
       "<table border=\"1\" class=\"dataframe\">\n",
       "  <thead>\n",
       "    <tr style=\"text-align: right;\">\n",
       "      <th></th>\n",
       "      <th>DBN</th>\n",
       "      <th>school_name</th>\n",
       "      <th>school_type</th>\n",
       "      <th>academic_type</th>\n",
       "      <th>grade_type</th>\n",
       "      <th>open_date</th>\n",
       "      <th>status</th>\n",
       "      <th>address</th>\n",
       "      <th>community_district</th>\n",
       "      <th>council_district</th>\n",
       "      <th>...</th>\n",
       "      <th>hvi</th>\n",
       "      <th>total_population</th>\n",
       "      <th>median_income</th>\n",
       "      <th>white_pct</th>\n",
       "      <th>black_pct</th>\n",
       "      <th>american_indian_alaska_native_pct</th>\n",
       "      <th>asian_pct</th>\n",
       "      <th>hawaiian_pacific_islander_pct</th>\n",
       "      <th>multiple_race_pct</th>\n",
       "      <th>other_race_pct</th>\n",
       "    </tr>\n",
       "  </thead>\n",
       "  <tbody>\n",
       "    <tr>\n",
       "      <th>0</th>\n",
       "      <td>15K001</td>\n",
       "      <td>P.S. 001 The Bergen</td>\n",
       "      <td>DOE</td>\n",
       "      <td>General Academic</td>\n",
       "      <td>Elementary</td>\n",
       "      <td>1965-07-01T00:00:00.000</td>\n",
       "      <td>Open</td>\n",
       "      <td>309 47 STREET</td>\n",
       "      <td>307.0</td>\n",
       "      <td>38.0</td>\n",
       "      <td>...</td>\n",
       "      <td>643949.214602</td>\n",
       "      <td>0.0</td>\n",
       "      <td>NaN</td>\n",
       "      <td>NaN</td>\n",
       "      <td>NaN</td>\n",
       "      <td>NaN</td>\n",
       "      <td>NaN</td>\n",
       "      <td>NaN</td>\n",
       "      <td>NaN</td>\n",
       "      <td>NaN</td>\n",
       "    </tr>\n",
       "    <tr>\n",
       "      <th>1</th>\n",
       "      <td>15K001</td>\n",
       "      <td>P.S. 001 The Bergen</td>\n",
       "      <td>DOE</td>\n",
       "      <td>General Academic</td>\n",
       "      <td>Elementary</td>\n",
       "      <td>1965-07-01T00:00:00.000</td>\n",
       "      <td>Open</td>\n",
       "      <td>309 47 STREET</td>\n",
       "      <td>307.0</td>\n",
       "      <td>38.0</td>\n",
       "      <td>...</td>\n",
       "      <td>643949.214602</td>\n",
       "      <td>1503.0</td>\n",
       "      <td>18941.0</td>\n",
       "      <td>40.652</td>\n",
       "      <td>2.728</td>\n",
       "      <td>10.313</td>\n",
       "      <td>6.055</td>\n",
       "      <td>0.0</td>\n",
       "      <td>1.464</td>\n",
       "      <td>39.521</td>\n",
       "    </tr>\n",
       "    <tr>\n",
       "      <th>2</th>\n",
       "      <td>15K001</td>\n",
       "      <td>P.S. 001 The Bergen</td>\n",
       "      <td>DOE</td>\n",
       "      <td>General Academic</td>\n",
       "      <td>Elementary</td>\n",
       "      <td>1965-07-01T00:00:00.000</td>\n",
       "      <td>Open</td>\n",
       "      <td>309 47 STREET</td>\n",
       "      <td>307.0</td>\n",
       "      <td>38.0</td>\n",
       "      <td>...</td>\n",
       "      <td>643949.214602</td>\n",
       "      <td>1738.0</td>\n",
       "      <td>25856.0</td>\n",
       "      <td>42.750</td>\n",
       "      <td>3.625</td>\n",
       "      <td>0.000</td>\n",
       "      <td>23.072</td>\n",
       "      <td>0.0</td>\n",
       "      <td>4.603</td>\n",
       "      <td>28.251</td>\n",
       "    </tr>\n",
       "    <tr>\n",
       "      <th>3</th>\n",
       "      <td>15K001</td>\n",
       "      <td>P.S. 001 The Bergen</td>\n",
       "      <td>DOE</td>\n",
       "      <td>General Academic</td>\n",
       "      <td>Elementary</td>\n",
       "      <td>1965-07-01T00:00:00.000</td>\n",
       "      <td>Open</td>\n",
       "      <td>309 47 STREET</td>\n",
       "      <td>307.0</td>\n",
       "      <td>38.0</td>\n",
       "      <td>...</td>\n",
       "      <td>643949.214602</td>\n",
       "      <td>5328.0</td>\n",
       "      <td>23235.0</td>\n",
       "      <td>33.296</td>\n",
       "      <td>0.638</td>\n",
       "      <td>1.126</td>\n",
       "      <td>30.593</td>\n",
       "      <td>0.0</td>\n",
       "      <td>9.685</td>\n",
       "      <td>29.505</td>\n",
       "    </tr>\n",
       "    <tr>\n",
       "      <th>4</th>\n",
       "      <td>15K001</td>\n",
       "      <td>P.S. 001 The Bergen</td>\n",
       "      <td>DOE</td>\n",
       "      <td>General Academic</td>\n",
       "      <td>Elementary</td>\n",
       "      <td>1965-07-01T00:00:00.000</td>\n",
       "      <td>Open</td>\n",
       "      <td>309 47 STREET</td>\n",
       "      <td>307.0</td>\n",
       "      <td>38.0</td>\n",
       "      <td>...</td>\n",
       "      <td>643949.214602</td>\n",
       "      <td>5431.0</td>\n",
       "      <td>24473.0</td>\n",
       "      <td>41.300</td>\n",
       "      <td>3.701</td>\n",
       "      <td>0.110</td>\n",
       "      <td>19.923</td>\n",
       "      <td>0.0</td>\n",
       "      <td>29.571</td>\n",
       "      <td>20.180</td>\n",
       "    </tr>\n",
       "    <tr>\n",
       "      <th>...</th>\n",
       "      <td>...</td>\n",
       "      <td>...</td>\n",
       "      <td>...</td>\n",
       "      <td>...</td>\n",
       "      <td>...</td>\n",
       "      <td>...</td>\n",
       "      <td>...</td>\n",
       "      <td>...</td>\n",
       "      <td>...</td>\n",
       "      <td>...</td>\n",
       "      <td>...</td>\n",
       "      <td>...</td>\n",
       "      <td>...</td>\n",
       "      <td>...</td>\n",
       "      <td>...</td>\n",
       "      <td>...</td>\n",
       "      <td>...</td>\n",
       "      <td>...</td>\n",
       "      <td>...</td>\n",
       "      <td>...</td>\n",
       "      <td>...</td>\n",
       "    </tr>\n",
       "    <tr>\n",
       "      <th>69437</th>\n",
       "      <td>75X811</td>\n",
       "      <td>P.S. X811</td>\n",
       "      <td>DOE</td>\n",
       "      <td>Special Education</td>\n",
       "      <td>Secondary School</td>\n",
       "      <td>1994-10-24T00:00:00.000</td>\n",
       "      <td>Open</td>\n",
       "      <td>1434 LONGFELLOW AVENUE</td>\n",
       "      <td>203.0</td>\n",
       "      <td>17.0</td>\n",
       "      <td>...</td>\n",
       "      <td>NaN</td>\n",
       "      <td>NaN</td>\n",
       "      <td>NaN</td>\n",
       "      <td>NaN</td>\n",
       "      <td>NaN</td>\n",
       "      <td>NaN</td>\n",
       "      <td>NaN</td>\n",
       "      <td>NaN</td>\n",
       "      <td>NaN</td>\n",
       "      <td>NaN</td>\n",
       "    </tr>\n",
       "    <tr>\n",
       "      <th>69438</th>\n",
       "      <td>75X811</td>\n",
       "      <td>P.S. X811</td>\n",
       "      <td>DOE</td>\n",
       "      <td>Special Education</td>\n",
       "      <td>Secondary School</td>\n",
       "      <td>1994-10-24T00:00:00.000</td>\n",
       "      <td>Open</td>\n",
       "      <td>1434 LONGFELLOW AVENUE</td>\n",
       "      <td>203.0</td>\n",
       "      <td>17.0</td>\n",
       "      <td>...</td>\n",
       "      <td>NaN</td>\n",
       "      <td>NaN</td>\n",
       "      <td>NaN</td>\n",
       "      <td>NaN</td>\n",
       "      <td>NaN</td>\n",
       "      <td>NaN</td>\n",
       "      <td>NaN</td>\n",
       "      <td>NaN</td>\n",
       "      <td>NaN</td>\n",
       "      <td>NaN</td>\n",
       "    </tr>\n",
       "    <tr>\n",
       "      <th>69439</th>\n",
       "      <td>75X811</td>\n",
       "      <td>P.S. X811</td>\n",
       "      <td>DOE</td>\n",
       "      <td>Special Education</td>\n",
       "      <td>Secondary School</td>\n",
       "      <td>1994-10-24T00:00:00.000</td>\n",
       "      <td>Open</td>\n",
       "      <td>1434 LONGFELLOW AVENUE</td>\n",
       "      <td>203.0</td>\n",
       "      <td>17.0</td>\n",
       "      <td>...</td>\n",
       "      <td>NaN</td>\n",
       "      <td>NaN</td>\n",
       "      <td>NaN</td>\n",
       "      <td>NaN</td>\n",
       "      <td>NaN</td>\n",
       "      <td>NaN</td>\n",
       "      <td>NaN</td>\n",
       "      <td>NaN</td>\n",
       "      <td>NaN</td>\n",
       "      <td>NaN</td>\n",
       "    </tr>\n",
       "    <tr>\n",
       "      <th>69440</th>\n",
       "      <td>75X811</td>\n",
       "      <td>P.S. X811</td>\n",
       "      <td>DOE</td>\n",
       "      <td>Special Education</td>\n",
       "      <td>Secondary School</td>\n",
       "      <td>1994-10-24T00:00:00.000</td>\n",
       "      <td>Open</td>\n",
       "      <td>1434 LONGFELLOW AVENUE</td>\n",
       "      <td>203.0</td>\n",
       "      <td>17.0</td>\n",
       "      <td>...</td>\n",
       "      <td>NaN</td>\n",
       "      <td>NaN</td>\n",
       "      <td>NaN</td>\n",
       "      <td>NaN</td>\n",
       "      <td>NaN</td>\n",
       "      <td>NaN</td>\n",
       "      <td>NaN</td>\n",
       "      <td>NaN</td>\n",
       "      <td>NaN</td>\n",
       "      <td>NaN</td>\n",
       "    </tr>\n",
       "    <tr>\n",
       "      <th>69441</th>\n",
       "      <td>75X811</td>\n",
       "      <td>P.S. X811</td>\n",
       "      <td>DOE</td>\n",
       "      <td>Special Education</td>\n",
       "      <td>Secondary School</td>\n",
       "      <td>1994-10-24T00:00:00.000</td>\n",
       "      <td>Open</td>\n",
       "      <td>1434 LONGFELLOW AVENUE</td>\n",
       "      <td>203.0</td>\n",
       "      <td>17.0</td>\n",
       "      <td>...</td>\n",
       "      <td>NaN</td>\n",
       "      <td>NaN</td>\n",
       "      <td>NaN</td>\n",
       "      <td>NaN</td>\n",
       "      <td>NaN</td>\n",
       "      <td>NaN</td>\n",
       "      <td>NaN</td>\n",
       "      <td>NaN</td>\n",
       "      <td>NaN</td>\n",
       "      <td>NaN</td>\n",
       "    </tr>\n",
       "  </tbody>\n",
       "</table>\n",
       "<p>69442 rows × 32 columns</p>\n",
       "</div>"
      ],
      "text/plain": [
       "          DBN          school_name school_type      academic_type  \\\n",
       "0      15K001  P.S. 001 The Bergen         DOE   General Academic   \n",
       "1      15K001  P.S. 001 The Bergen         DOE   General Academic   \n",
       "2      15K001  P.S. 001 The Bergen         DOE   General Academic   \n",
       "3      15K001  P.S. 001 The Bergen         DOE   General Academic   \n",
       "4      15K001  P.S. 001 The Bergen         DOE   General Academic   \n",
       "...       ...                  ...         ...                ...   \n",
       "69437  75X811            P.S. X811         DOE  Special Education   \n",
       "69438  75X811            P.S. X811         DOE  Special Education   \n",
       "69439  75X811            P.S. X811         DOE  Special Education   \n",
       "69440  75X811            P.S. X811         DOE  Special Education   \n",
       "69441  75X811            P.S. X811         DOE  Special Education   \n",
       "\n",
       "             grade_type                open_date status  \\\n",
       "0            Elementary  1965-07-01T00:00:00.000   Open   \n",
       "1            Elementary  1965-07-01T00:00:00.000   Open   \n",
       "2            Elementary  1965-07-01T00:00:00.000   Open   \n",
       "3            Elementary  1965-07-01T00:00:00.000   Open   \n",
       "4            Elementary  1965-07-01T00:00:00.000   Open   \n",
       "...                 ...                      ...    ...   \n",
       "69437  Secondary School  1994-10-24T00:00:00.000   Open   \n",
       "69438  Secondary School  1994-10-24T00:00:00.000   Open   \n",
       "69439  Secondary School  1994-10-24T00:00:00.000   Open   \n",
       "69440  Secondary School  1994-10-24T00:00:00.000   Open   \n",
       "69441  Secondary School  1994-10-24T00:00:00.000   Open   \n",
       "\n",
       "                      address  community_district  council_district  ...  \\\n",
       "0               309 47 STREET               307.0              38.0  ...   \n",
       "1               309 47 STREET               307.0              38.0  ...   \n",
       "2               309 47 STREET               307.0              38.0  ...   \n",
       "3               309 47 STREET               307.0              38.0  ...   \n",
       "4               309 47 STREET               307.0              38.0  ...   \n",
       "...                       ...                 ...               ...  ...   \n",
       "69437  1434 LONGFELLOW AVENUE               203.0              17.0  ...   \n",
       "69438  1434 LONGFELLOW AVENUE               203.0              17.0  ...   \n",
       "69439  1434 LONGFELLOW AVENUE               203.0              17.0  ...   \n",
       "69440  1434 LONGFELLOW AVENUE               203.0              17.0  ...   \n",
       "69441  1434 LONGFELLOW AVENUE               203.0              17.0  ...   \n",
       "\n",
       "                 hvi  total_population  median_income  white_pct black_pct  \\\n",
       "0      643949.214602               0.0            NaN        NaN       NaN   \n",
       "1      643949.214602            1503.0        18941.0     40.652     2.728   \n",
       "2      643949.214602            1738.0        25856.0     42.750     3.625   \n",
       "3      643949.214602            5328.0        23235.0     33.296     0.638   \n",
       "4      643949.214602            5431.0        24473.0     41.300     3.701   \n",
       "...              ...               ...            ...        ...       ...   \n",
       "69437            NaN               NaN            NaN        NaN       NaN   \n",
       "69438            NaN               NaN            NaN        NaN       NaN   \n",
       "69439            NaN               NaN            NaN        NaN       NaN   \n",
       "69440            NaN               NaN            NaN        NaN       NaN   \n",
       "69441            NaN               NaN            NaN        NaN       NaN   \n",
       "\n",
       "      american_indian_alaska_native_pct asian_pct  \\\n",
       "0                                   NaN       NaN   \n",
       "1                                10.313     6.055   \n",
       "2                                 0.000    23.072   \n",
       "3                                 1.126    30.593   \n",
       "4                                 0.110    19.923   \n",
       "...                                 ...       ...   \n",
       "69437                               NaN       NaN   \n",
       "69438                               NaN       NaN   \n",
       "69439                               NaN       NaN   \n",
       "69440                               NaN       NaN   \n",
       "69441                               NaN       NaN   \n",
       "\n",
       "       hawaiian_pacific_islander_pct  multiple_race_pct  other_race_pct  \n",
       "0                                NaN                NaN             NaN  \n",
       "1                                0.0              1.464          39.521  \n",
       "2                                0.0              4.603          28.251  \n",
       "3                                0.0              9.685          29.505  \n",
       "4                                0.0             29.571          20.180  \n",
       "...                              ...                ...             ...  \n",
       "69437                            NaN                NaN             NaN  \n",
       "69438                            NaN                NaN             NaN  \n",
       "69439                            NaN                NaN             NaN  \n",
       "69440                            NaN                NaN             NaN  \n",
       "69441                            NaN                NaN             NaN  \n",
       "\n",
       "[69442 rows x 32 columns]"
      ]
     },
     "execution_count": 11,
     "metadata": {},
     "output_type": "execute_result"
    }
   ],
   "source": [
    "allData[\"minority_pct\"] = "
   ]
  },
  {
   "cell_type": "code",
   "execution_count": null,
   "metadata": {},
   "outputs": [
    {
     "data": {
      "text/plain": [
       "Index(['DBN', 'school_name', 'school_type', 'academic_type', 'grade_type',\n",
       "       'open_date', 'status', 'address', 'community_district',\n",
       "       'council_district', 'census_tract', 'year', 'pct_attendance',\n",
       "       'pct_chronically_absent', 'nta_code', 'nta_name', 'borough',\n",
       "       'number_of_sales', 'average_sale_price', 'median_sale_price',\n",
       "       'lowest_sale_price', 'highest_sale_price', 'hvi', 'total_population',\n",
       "       'median_income', 'white_pct', 'black_pct',\n",
       "       'american_indian_alaska_native_pct', 'asian_pct',\n",
       "       'hawaiian_pacific_islander_pct', 'multiple_race_pct', 'other_race_pct'],\n",
       "      dtype='object')"
      ]
     },
     "execution_count": 10,
     "metadata": {},
     "output_type": "execute_result"
    }
   ],
   "source": [
    "# Descriptive statistics for the key variables: evictions, school absenteeism, housing prices\n",
    "# Mean, median, mode, std dev, range, IQR, etc\n",
    "# Box plot for each\n",
    "allData.columns\n",
    "keepCols = ['year', 'pct_attendance',\n",
    "       'pct_chronically_absent', 'nta_code', 'nta_name', 'borough',\n",
    "       'number_of_sales', 'average_sale_price', 'median_sale_price',\n",
    "       'lowest_sale_price', 'highest_sale_price', 'hvi', 'total_population',\n",
    "       'median_income', 'white_pct', 'black_pct',\n",
    "       'american_indian_alaska_native_pct', 'asian_pct',\n",
    "       'hawaiian_pacific_islander_pct', 'multiple_race_pct', 'other_race_pct']"
   ]
  },
  {
   "cell_type": "markdown",
   "metadata": {},
   "source": [
    "Interpretation: "
   ]
  },
  {
   "cell_type": "markdown",
   "metadata": {},
   "source": [
    "## Inferential Statistics"
   ]
  },
  {
   "cell_type": "markdown",
   "metadata": {},
   "source": [
    "Guidance:\n",
    "\n",
    "Conduct appropriate hypothesis tests to investigate if there are significant differences or correlations within your data.  This might involve regression analysis, ANOVA, and/or chi-squared tests.\n",
    "\n",
    "Clearly state your null and alternative hypotheses, choose an appropriate significance level, and discuss your findings. Make sure to justify the choice of your tests."
   ]
  },
  {
   "cell_type": "markdown",
   "metadata": {},
   "source": [
    "Research questions and associated hypotheses to be answered in the inferential analysis:\n",
    "\n",
    "1. How are housing prices related to eviction rates? Do areas with higher housing prices have higher eviction rates?\n",
    "    - Null hypothesis (H0): There is no relationship between housing prices and eviction rates.\n",
    "    - Alternative hypothesis (Ha): There is a positive relationship between housing prices and eviction rates.\n",
    "2. Is the impact of income on eviction rates mediated by housing prices?\n",
    "    - H0: There is no relationship between housing prices and the impact of income on eviction rates.\n",
    "    - Ha: Housing prices mediate the relationship between income and eviction rates.\n",
    "3. Do neighborhoods with higher eviction rates see a decrease in school attendance?\n",
    "    - H0: There is no relationship between eviction rates and school attendance.\n",
    "    - Ha: There is a negative association between eviction rates and school attendance.\n",
    "4. Is the impact of income on school attendance mediated by evictions?\n",
    "    - H0: There is no relationship between evictions and the impact of income on school attendance.\n",
    "    - Ha: Evictions mediate the relationship between income and school attendance.\n",
    "5. How do the relationships between housing prices, evictions, and chronic absenteeism vary between minority and white-dominant neighborhoods?\n",
    "    - H0: There is no statistically significant difference in the relationships between housing prices, evictions, and chronic absenteeism between minority and white-dominant neighborhoods.\n",
    "    - Ha: The relationships between housing prices, evictions, and chronic absenteeism differ between minority and white-dominant neighborhoods.\n",
    "6. How do the relationships between housing prices, evictions, and chronic absenteeism vary between low, medium and high income neighborhoods?\n",
    "    - H0: There is no statistically significant difference in the relationships between housing prices, evictions, and chronic absenteeism between neighborhoods of different income levels.\n",
    "    - Ha: The relationships between housing prices, evictions, and chronic absenteeism differ by neighborhood income level.\n"
   ]
  },
  {
   "cell_type": "markdown",
   "metadata": {},
   "source": [
    "ANOVAs:\n",
    "- Housing prices, eviction rates, chronic absenteeism by minority vs non-minority dominated neighborhoods\n",
    "- Housing prices, evictions, and school attendance by income level (low, medium, high income neighborhoods)"
   ]
  },
  {
   "cell_type": "code",
   "execution_count": null,
   "metadata": {},
   "outputs": [],
   "source": [
    "# Correlation heatmap for housing prices, evictions, and school chronic absenteeism"
   ]
  },
  {
   "cell_type": "code",
   "execution_count": null,
   "metadata": {},
   "outputs": [],
   "source": [
    "# Mediation analysis: income -> housing -> evictions\n",
    "\n",
    "# 1. Regression analysis of income and evictions\n",
    "\n",
    "# 2. Regression analysis of income and housing prices\n",
    "\n",
    "# 3. Regression analysis of housing prices and evictions\n",
    "\n",
    "# 4. Multiple regression of income and housing prices on evictions"
   ]
  },
  {
   "cell_type": "code",
   "execution_count": null,
   "metadata": {},
   "outputs": [],
   "source": [
    "# Mediation analysis: income -> evictions -> absenteeism\n",
    "\n",
    "# 1. Regression analysis of income and absenteeism\n",
    "\n",
    "# 2. Regression analysis of income and evictions (already done)\n",
    "\n",
    "# 3. Regression analysis of evictions and absenteeism\n",
    "\n",
    "# 4. Multiple regression of income and evictions on absenteeism"
   ]
  },
  {
   "cell_type": "code",
   "execution_count": null,
   "metadata": {},
   "outputs": [],
   "source": [
    "# ANOVA tests for housing prices, eviction rates, school attendance for low, medium, high income neighborhoods\n",
    "# Define low = < Q1, medium = Q1 to Q3, high = > Q3"
   ]
  },
  {
   "cell_type": "code",
   "execution_count": null,
   "metadata": {},
   "outputs": [],
   "source": [
    "# ANOVA tests for housing prices, eviction rates, school attendance for white/minority dominated neighborhoods\n",
    "# Sum all other races into minority_pct\n",
    "# Define white-dominated as white_pct > minority_pct, minority-dominated as minority_pct > white_pct"
   ]
  },
  {
   "cell_type": "markdown",
   "metadata": {},
   "source": [
    "## Graphical Analysis"
   ]
  },
  {
   "cell_type": "markdown",
   "metadata": {},
   "source": [
    "Guidance:\n",
    "\n",
    "Create various types of plots to visualize relationships within your data. Use histograms, bar charts, scatter plots, box plots, and any other suitable graphical representations you've learned.\n",
    "\n",
    "Be sure to use appropriate titles, labels, and legends to make your plots readable and informative.\n",
    "\n",
    "Interpret the graphical representations to uncover patterns, trends, and outliers.\n"
   ]
  },
  {
   "cell_type": "code",
   "execution_count": null,
   "metadata": {},
   "outputs": [],
   "source": [
    "# May be redundant with the above, maybe add some pairplots"
   ]
  },
  {
   "cell_type": "markdown",
   "metadata": {},
   "source": [
    "## Comparative Analysis"
   ]
  },
  {
   "cell_type": "markdown",
   "metadata": {},
   "source": [
    "Guidance:\n",
    "\n",
    "Compare and contrast different subsets of your data. This can include comparisons over time, across different categories, or any other relevant segmentation.  Note that for some projects, the nature of this comparative analysis will be obvious.  For others, you will need to think about how you might subset your data.\n",
    "\n",
    "Discuss any notable similarities or differences you have identified.\n"
   ]
  },
  {
   "cell_type": "markdown",
   "metadata": {},
   "source": [
    "Subsets to examine/comparisons to make:\n",
    "1. Housing prices, evictions, and school attendance by race (minority-dominant vs white-dominant neighborhoods)\n",
    "- Multi-line plots: housing prices, evictions, and school attendance, each a seprate figure, plotted by racial perecentage (white, black, asian, islander, etc)\n",
    "2. Housing prices, evictions, and school attendance by income level (low, medium, high income neighborhoods)\n",
    "- Multi-line plots as well\n",
    "\n",
    "Most of this is done in the inferential statistics section. Can reproduce or reference the ANOVAs and add plots to substantiate, then discuss."
   ]
  },
  {
   "cell_type": "code",
   "execution_count": null,
   "metadata": {},
   "outputs": [],
   "source": [
    "# Maybe do additional comparisons based on demographic characteristics"
   ]
  },
  {
   "cell_type": "markdown",
   "metadata": {},
   "source": [
    "## Multivariate Analysis"
   ]
  },
  {
   "cell_type": "markdown",
   "metadata": {},
   "source": [
    "Guidance:\n",
    "\n",
    "Perform multivariate analysis to understand the relationships among three or more variables in your dataset.\n",
    "\n",
    "Use techniques like cross-tabulation, pivot tables, and multivariate graphs.\n"
   ]
  },
  {
   "cell_type": "code",
   "execution_count": null,
   "metadata": {},
   "outputs": [],
   "source": [
    "# Pairplot and correlation heatmap for all variables"
   ]
  },
  {
   "cell_type": "code",
   "execution_count": null,
   "metadata": {},
   "outputs": [],
   "source": []
  },
  {
   "cell_type": "markdown",
   "metadata": {},
   "source": [
    "## Synthesis"
   ]
  },
  {
   "cell_type": "markdown",
   "metadata": {},
   "source": [
    "Guidance:\n",
    "\n",
    "Synthesize the findings from your descriptive and inferential statistics along with your graphical analyses to answer your research questions.\n",
    "\n",
    "Discuss how the combination of the datasets has provided added value in terms of insights or capabilities that would not be possible with the individual datasets in isolation.\n"
   ]
  },
  {
   "cell_type": "markdown",
   "metadata": {},
   "source": [
    "More expanded version of the interpretation blocks for descriptive, inferential statistics"
   ]
  },
  {
   "cell_type": "markdown",
   "metadata": {},
   "source": [
    "## Reflection"
   ]
  },
  {
   "cell_type": "markdown",
   "metadata": {},
   "source": [
    "Include a section (using one or more markdown blocks) at the end of your notebook in which you reflect on the process of analyzing the data. Discuss any challenges you encountered and how you overcame them.\n",
    "\n",
    "Critically evaluate the limitations of your analysis and suggest areas for further research or improvement.\n",
    "\n",
    "\n",
    "Obvious: reducing complex socioeconomic phenomena such as school truancy and evictions to a few variables likely oversimplifies the problem. The relationships between housing prices, eviction rates, and school attendance are likely to be mediated by a variety of other factors, such as income, employment, and social services."
   ]
  },
  {
   "cell_type": "markdown",
   "metadata": {},
   "source": []
  }
 ],
 "metadata": {
  "kernelspec": {
   "display_name": ".venv",
   "language": "python",
   "name": "python3"
  },
  "language_info": {
   "codemirror_mode": {
    "name": "ipython",
    "version": 3
   },
   "file_extension": ".py",
   "mimetype": "text/x-python",
   "name": "python",
   "nbconvert_exporter": "python",
   "pygments_lexer": "ipython3",
   "version": "3.11.5"
  }
 },
 "nbformat": 4,
 "nbformat_minor": 0
}
