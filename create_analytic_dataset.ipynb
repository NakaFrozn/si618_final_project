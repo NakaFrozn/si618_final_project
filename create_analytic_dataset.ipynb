{
 "cells": [
  {
   "cell_type": "markdown",
   "metadata": {},
   "source": [
    "# Creating Analytic Dataset\n",
    "\n",
    "**STEPS**:  \n",
    "1. Merging neighborhood-level house price dataset with demographics dataset. \n",
    "2. Merging neighborhood-level house price and house value index dataset with neighborhood-level school quality dataset.\n",
    "3. *Merging with demographics dataset*\n"
   ]
  },
  {
   "cell_type": "code",
   "execution_count": 72,
   "metadata": {},
   "outputs": [],
   "source": [
    "import pandas as pd\n",
    "import numpy as np\n",
    "import matplotlib.pyplot as plt\n",
    "import seaborn as sns"
   ]
  },
  {
   "cell_type": "markdown",
   "metadata": {},
   "source": [
    "## Prepare School Dataset"
   ]
  },
  {
   "cell_type": "code",
   "execution_count": 73,
   "metadata": {},
   "outputs": [
    {
     "data": {
      "text/html": [
       "<div>\n",
       "<style scoped>\n",
       "    .dataframe tbody tr th:only-of-type {\n",
       "        vertical-align: middle;\n",
       "    }\n",
       "\n",
       "    .dataframe tbody tr th {\n",
       "        vertical-align: top;\n",
       "    }\n",
       "\n",
       "    .dataframe thead th {\n",
       "        text-align: right;\n",
       "    }\n",
       "</style>\n",
       "<table border=\"1\" class=\"dataframe\">\n",
       "  <thead>\n",
       "    <tr style=\"text-align: right;\">\n",
       "      <th></th>\n",
       "      <th>DBN</th>\n",
       "      <th>school_name</th>\n",
       "      <th>year</th>\n",
       "      <th>pct_attendance</th>\n",
       "      <th>pct_chronically_absent</th>\n",
       "    </tr>\n",
       "  </thead>\n",
       "  <tbody>\n",
       "    <tr>\n",
       "      <th>0</th>\n",
       "      <td>01M015</td>\n",
       "      <td>P.S. 015 Roberto Clemente</td>\n",
       "      <td>2019</td>\n",
       "      <td>92.624725</td>\n",
       "      <td>24.479166</td>\n",
       "    </tr>\n",
       "    <tr>\n",
       "      <th>1</th>\n",
       "      <td>01M015</td>\n",
       "      <td>P.S. 015 Roberto Clemente</td>\n",
       "      <td>2020</td>\n",
       "      <td>92.891335</td>\n",
       "      <td>28.431372</td>\n",
       "    </tr>\n",
       "    <tr>\n",
       "      <th>2</th>\n",
       "      <td>01M015</td>\n",
       "      <td>P.S. 015 Roberto Clemente</td>\n",
       "      <td>2021</td>\n",
       "      <td>87.973442</td>\n",
       "      <td>42.211056</td>\n",
       "    </tr>\n",
       "    <tr>\n",
       "      <th>3</th>\n",
       "      <td>01M015</td>\n",
       "      <td>P.S. 015 Roberto Clemente</td>\n",
       "      <td>2022</td>\n",
       "      <td>84.995102</td>\n",
       "      <td>59.473682</td>\n",
       "    </tr>\n",
       "    <tr>\n",
       "      <th>4</th>\n",
       "      <td>01M015</td>\n",
       "      <td>P.S. 015 Roberto Clemente</td>\n",
       "      <td>2023</td>\n",
       "      <td>87.266937</td>\n",
       "      <td>50.485435</td>\n",
       "    </tr>\n",
       "  </tbody>\n",
       "</table>\n",
       "</div>"
      ],
      "text/plain": [
       "      DBN                school_name  year  pct_attendance  \\\n",
       "0  01M015  P.S. 015 Roberto Clemente  2019       92.624725   \n",
       "1  01M015  P.S. 015 Roberto Clemente  2020       92.891335   \n",
       "2  01M015  P.S. 015 Roberto Clemente  2021       87.973442   \n",
       "3  01M015  P.S. 015 Roberto Clemente  2022       84.995102   \n",
       "4  01M015  P.S. 015 Roberto Clemente  2023       87.266937   \n",
       "\n",
       "   pct_chronically_absent  \n",
       "0               24.479166  \n",
       "1               28.431372  \n",
       "2               42.211056  \n",
       "3               59.473682  \n",
       "4               50.485435  "
      ]
     },
     "execution_count": 73,
     "metadata": {},
     "output_type": "execute_result"
    }
   ],
   "source": [
    "df_school_location = pd.read_csv(\"./data/schools_neighborhoods.csv\")\n",
    "df_school_attendance = pd.read_csv(\"./data/cleaned_school_attendance.csv\")\n",
    "df_school_attendance.head()"
   ]
  },
  {
   "cell_type": "code",
   "execution_count": 74,
   "metadata": {},
   "outputs": [],
   "source": [
    "df_school_location_clean = df_school_location[\n",
    "    [\n",
    "        \"system_code\",\n",
    "        \"location_name\",\n",
    "        \"Managed_by_name\",\n",
    "        \"location_type_description\",\n",
    "        \"Location_Category_Description\",\n",
    "        \"open_date\",\n",
    "        \"Status_descriptions\",\n",
    "        \"primary_address_line_1\",\n",
    "        \"Community_district\",\n",
    "        \"Council-district\",\n",
    "        \"Census_tract\",\n",
    "        'NTA_Name',\n",
    "        'NTA2020',\n",
    "        'NTAName',\n",
    "        'BoroName'\n",
    "    ]\n",
    "]\n",
    "\n",
    "df_school_location_clean.columns = [\n",
    "    \"DBN\",\n",
    "    \"school_name\",\n",
    "    \"school_type\",\n",
    "    \"academic_type\",\n",
    "    \"grade_type\",\n",
    "    \"open_date\",\n",
    "    \"status\",\n",
    "    \"address\",\n",
    "    \"community_district\",\n",
    "    \"council_district\",\n",
    "    \"census_tract\",\n",
    "    \"NTA_Name\",\n",
    "    \"NTA2020\",\n",
    "    \"NTA2020_Name\",\n",
    "    \"Borough\",\n",
    "]"
   ]
  },
  {
   "cell_type": "code",
   "execution_count": 75,
   "metadata": {},
   "outputs": [],
   "source": [
    "df_school = pd.merge(df_school_location_clean, df_school_attendance, left_on=\"DBN\", right_on=\"DBN\", how=\"left\")\n",
    "df_school = df_school.drop(columns=[\"school_name_y\", \"NTA_Name\",\"NTA2020_Name\",\"Borough\"])\n",
    "df_school.rename(columns={\"school_name_x\": \"school_name\"}, inplace=True)"
   ]
  },
  {
   "cell_type": "code",
   "execution_count": 76,
   "metadata": {},
   "outputs": [
    {
     "data": {
      "text/plain": [
       "Index(['DBN', 'school_name', 'school_type', 'academic_type', 'grade_type',\n",
       "       'open_date', 'status', 'address', 'community_district',\n",
       "       'council_district', 'census_tract', 'NTA2020', 'year', 'pct_attendance',\n",
       "       'pct_chronically_absent'],\n",
       "      dtype='object')"
      ]
     },
     "execution_count": 76,
     "metadata": {},
     "output_type": "execute_result"
    }
   ],
   "source": [
    "df_school.columns"
   ]
  },
  {
   "cell_type": "markdown",
   "metadata": {},
   "source": [
    "## Merge House Sales Dataset with Demographics Dataset"
   ]
  },
  {
   "cell_type": "code",
   "execution_count": 77,
   "metadata": {},
   "outputs": [],
   "source": [
    "df_sales = pd.read_csv(\"./data/cleaned_neighbor_sales.csv\")\n",
    "df_neighborhood_demo = pd.read_csv(\"./data/census_demo.csv\")\n",
    "df_neighborhood_demo.drop(columns=[\"Unnamed: 0\", \"tract\", \"NTAName\"], inplace=True)\n",
    "df_neighborhood_demo.rename(columns={\n",
    "    \"Total Estimate\": \"total_population\",\n",
    "    \"White alone Estimate\": \"white\",\n",
    "    \"Black or African American alone Estimate\": \"black\",\n",
    "    \"American Indian and Alaska Native alone Estimate\": \"american_indian_alaska_native\",\n",
    "    \"Asian alone Estimate\": \"asian\",\n",
    "    \"Native Hawaiian and Other Pacific Islander alone Estimate\": \"hawaiian_pacific_islander\",\n",
    "    \"Some Other Race alone Estimate\": \"other_race\",\n",
    "    \"Two or More Races Estimate\": \"two_or_more\",\n",
    "    \"Two races including Some Other Race Estimate\": \"two_include_other\",\n",
    "    \"Two races excluding Some Other Race, and three or more races Estimate\": \"two_other\",\n",
    "    \"Median Income In The Past 12 Months (In 2020 Inflation-Adjusted Dollars)\": \"median_income\",\n",
    "}, inplace=True)"
   ]
  },
  {
   "cell_type": "code",
   "execution_count": 78,
   "metadata": {},
   "outputs": [],
   "source": [
    "df_neighborhood_demo['multiple_race'] = df_neighborhood_demo['two_or_more'] + df_neighborhood_demo['two_include_other'] + df_neighborhood_demo['two_other']\n",
    "race_cols = ['white', 'black', 'american_indian_alaska_native', 'asian', 'hawaiian_pacific_islander','multiple_race', 'other_race']\n",
    "for race in race_cols:\n",
    "    race_pct = race+\"_pct\"\n",
    "    # Round to 3 decimal places\n",
    "    df_neighborhood_demo[race_pct] = np.round(df_neighborhood_demo[race] / df_neighborhood_demo['total_population']*100,3)\n",
    "df_neighborhood_demo.drop(columns=['two_or_more', 'two_include_other', 'two_other']+race_cols, inplace=True)"
   ]
  },
  {
   "cell_type": "code",
   "execution_count": 79,
   "metadata": {},
   "outputs": [
    {
     "data": {
      "text/plain": [
       "Index(['nta_code', 'nta_name', 'dof_name', 'neighborhood', 'borough', 'year',\n",
       "       'number_of_sales', 'average_sale_price', 'median_sale_price',\n",
       "       'lowest_sale_price', 'highest_sale_price', 'hvi'],\n",
       "      dtype='object')"
      ]
     },
     "execution_count": 79,
     "metadata": {},
     "output_type": "execute_result"
    }
   ],
   "source": [
    "df_sales.columns"
   ]
  },
  {
   "cell_type": "code",
   "execution_count": 80,
   "metadata": {},
   "outputs": [
    {
     "data": {
      "text/plain": [
       "Index(['GEOID', 'NTA2020', 'total_population', 'median_income', 'white_pct',\n",
       "       'black_pct', 'american_indian_alaska_native_pct', 'asian_pct',\n",
       "       'hawaiian_pacific_islander_pct', 'multiple_race_pct', 'other_race_pct'],\n",
       "      dtype='object')"
      ]
     },
     "execution_count": 80,
     "metadata": {},
     "output_type": "execute_result"
    }
   ],
   "source": [
    "df_neighborhood_demo.columns"
   ]
  },
  {
   "cell_type": "code",
   "execution_count": 81,
   "metadata": {},
   "outputs": [],
   "source": [
    "df_house = pd.merge(df_sales, df_neighborhood_demo, left_on=\"nta_code\", right_on=\"NTA2020\", how=\"left\")"
   ]
  },
  {
   "cell_type": "markdown",
   "metadata": {},
   "source": [
    "## Merge School Dataset with House Price and House Value Index Dataset"
   ]
  },
  {
   "cell_type": "code",
   "execution_count": 82,
   "metadata": {},
   "outputs": [],
   "source": [
    "school_neighbor_merge = pd.merge(df_school, df_house, left_on=[\"NTA2020\",\"year\"], right_on=[\"nta_code\",\"year\"], how=\"left\")"
   ]
  },
  {
   "cell_type": "code",
   "execution_count": 83,
   "metadata": {},
   "outputs": [
    {
     "data": {
      "text/plain": [
       "Index(['DBN', 'school_name', 'school_type', 'academic_type', 'grade_type',\n",
       "       'open_date', 'status', 'address', 'community_district',\n",
       "       'council_district', 'census_tract', 'year', 'pct_attendance',\n",
       "       'pct_chronically_absent', 'nta_code', 'nta_name', 'borough',\n",
       "       'number_of_sales', 'average_sale_price', 'median_sale_price',\n",
       "       'lowest_sale_price', 'highest_sale_price', 'hvi', 'GEOID',\n",
       "       'total_population', 'median_income', 'white_pct', 'black_pct',\n",
       "       'american_indian_alaska_native_pct', 'asian_pct',\n",
       "       'hawaiian_pacific_islander_pct', 'multiple_race_pct', 'other_race_pct'],\n",
       "      dtype='object')"
      ]
     },
     "execution_count": 83,
     "metadata": {},
     "output_type": "execute_result"
    }
   ],
   "source": [
    "school_neighbor_merge.drop(columns=[\"dof_name\",\"neighborhood\",\"NTA2020_x\",\"NTA2020_y\"], inplace=True)\n",
    "school_neighbor_merge.columns\n",
    "# print(school_neighbor_merge.describe())"
   ]
  },
  {
   "cell_type": "markdown",
   "metadata": {},
   "source": [
    "## Merge School/HVI with Evictions"
   ]
  },
  {
   "cell_type": "code",
   "execution_count": 84,
   "metadata": {},
   "outputs": [
    {
     "data": {
      "text/plain": [
       "Index(['YEAR', 'GEOID', 'EVICTION_COUNT'], dtype='object')"
      ]
     },
     "execution_count": 84,
     "metadata": {},
     "output_type": "execute_result"
    }
   ],
   "source": [
    "## read in evictions at tract level aggregate\n",
    "df_evictions = pd.read_csv(\"data/nyc_tract_evictions_aggregate.csv.gz\")\n",
    "df_evictions.columns"
   ]
  },
  {
   "cell_type": "code",
   "execution_count": 89,
   "metadata": {},
   "outputs": [
    {
     "name": "stdout",
     "output_type": "stream",
     "text": [
      "GEOID    0\n",
      "YEAR     0\n",
      "dtype: int64\n",
      "GEOID    0\n",
      "year     0\n",
      "dtype: int64\n"
     ]
    }
   ],
   "source": [
    "# check missingness of GEOID and year for each dataset\n",
    "print(df_evictions[['GEOID','YEAR']].isnull().sum())\n",
    "print(school_neighbor_merge[['GEOID','year']].isnull().sum())"
   ]
  },
  {
   "cell_type": "code",
   "execution_count": 90,
   "metadata": {},
   "outputs": [
    {
     "data": {
      "text/plain": [
       "Index(['DBN', 'school_name', 'school_type', 'academic_type', 'grade_type',\n",
       "       'open_date', 'status', 'address', 'community_district',\n",
       "       'council_district', 'census_tract', 'year', 'pct_attendance',\n",
       "       'pct_chronically_absent', 'nta_code', 'nta_name', 'borough',\n",
       "       'number_of_sales', 'average_sale_price', 'median_sale_price',\n",
       "       'lowest_sale_price', 'highest_sale_price', 'hvi', 'GEOID',\n",
       "       'total_population', 'median_income', 'white_pct', 'black_pct',\n",
       "       'american_indian_alaska_native_pct', 'asian_pct',\n",
       "       'hawaiian_pacific_islander_pct', 'multiple_race_pct', 'other_race_pct',\n",
       "       'YEAR', 'EVICTION_COUNT'],\n",
       "      dtype='object')"
      ]
     },
     "execution_count": 90,
     "metadata": {},
     "output_type": "execute_result"
    }
   ],
   "source": [
    "# prep for merge\n",
    "# convert school_neighbor_merge['GEOID'] to int64\n",
    "school_neighbor_merge = school_neighbor_merge.dropna(subset=['GEOID'])\n",
    "\n",
    "school_neighbor_merge['GEOID'] = school_neighbor_merge['GEOID'].astype('int64')\n",
    "\n",
    "# merge evictions data\n",
    "school_sales_evictions = pd.merge(school_neighbor_merge, df_evictions, left_on=[\"GEOID\",\"year\"], right_on=[\"GEOID\",\"YEAR\"], how=\"left\")\n",
    "school_sales_evictions.columns"
   ]
  },
  {
   "cell_type": "code",
   "execution_count": 91,
   "metadata": {},
   "outputs": [],
   "source": [
    "# school_neighbor_merge.to_csv(\"./data/analytic_dataset.csv\", index=False)\n",
    "school_sales_evictions.to_csv(\"./data/analytic_dataset.csv\", index=False)"
   ]
  },
  {
   "cell_type": "code",
   "execution_count": null,
   "metadata": {},
   "outputs": [],
   "source": []
  }
 ],
 "metadata": {
  "kernelspec": {
   "display_name": ".venv",
   "language": "python",
   "name": "python3"
  },
  "language_info": {
   "codemirror_mode": {
    "name": "ipython",
    "version": 3
   },
   "file_extension": ".py",
   "mimetype": "text/x-python",
   "name": "python",
   "nbconvert_exporter": "python",
   "pygments_lexer": "ipython3",
   "version": "3.12.5"
  }
 },
 "nbformat": 4,
 "nbformat_minor": 2
}
