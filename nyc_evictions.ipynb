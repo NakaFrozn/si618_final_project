{
 "cells": [
  {
   "cell_type": "code",
   "execution_count": 2,
   "metadata": {},
   "outputs": [],
   "source": [
    "import pandas as pd\n",
    "import numpy as np\n",
    "import matplotlib.pyplot as plt"
   ]
  },
  {
   "cell_type": "code",
   "execution_count": 5,
   "metadata": {},
   "outputs": [
    {
     "data": {
      "text/html": [
       "<div>\n",
       "<style scoped>\n",
       "    .dataframe tbody tr th:only-of-type {\n",
       "        vertical-align: middle;\n",
       "    }\n",
       "\n",
       "    .dataframe tbody tr th {\n",
       "        vertical-align: top;\n",
       "    }\n",
       "\n",
       "    .dataframe thead th {\n",
       "        text-align: right;\n",
       "    }\n",
       "</style>\n",
       "<table border=\"1\" class=\"dataframe\">\n",
       "  <thead>\n",
       "    <tr style=\"text-align: right;\">\n",
       "      <th></th>\n",
       "      <th>Court Index Number</th>\n",
       "      <th>Docket Number</th>\n",
       "      <th>Eviction Address</th>\n",
       "      <th>Eviction Apartment Number</th>\n",
       "      <th>Executed Date</th>\n",
       "      <th>Marshal First Name</th>\n",
       "      <th>Marshal Last Name</th>\n",
       "      <th>Residential/Commercial</th>\n",
       "      <th>BOROUGH</th>\n",
       "      <th>Eviction Postcode</th>\n",
       "      <th>Ejectment</th>\n",
       "      <th>Eviction/Legal Possession</th>\n",
       "      <th>Latitude</th>\n",
       "      <th>Longitude</th>\n",
       "      <th>Community Board</th>\n",
       "      <th>Council District</th>\n",
       "      <th>Census Tract</th>\n",
       "      <th>BIN</th>\n",
       "      <th>BBL</th>\n",
       "      <th>NTA</th>\n",
       "    </tr>\n",
       "  </thead>\n",
       "  <tbody>\n",
       "    <tr>\n",
       "      <th>0</th>\n",
       "      <td>54296/20</td>\n",
       "      <td>11304</td>\n",
       "      <td>279 WEST 22ND STREET</td>\n",
       "      <td>5</td>\n",
       "      <td>11/21/2023</td>\n",
       "      <td>David</td>\n",
       "      <td>Smith</td>\n",
       "      <td>Residential</td>\n",
       "      <td>MANHATTAN</td>\n",
       "      <td>10011</td>\n",
       "      <td>Not an Ejectment</td>\n",
       "      <td>Possession</td>\n",
       "      <td>40.744426</td>\n",
       "      <td>-73.998466</td>\n",
       "      <td>4.0</td>\n",
       "      <td>3.0</td>\n",
       "      <td>91.0</td>\n",
       "      <td>1014101.0</td>\n",
       "      <td>1.007720e+09</td>\n",
       "      <td>Hudson Yards-Chelsea-Flatiron-Union Square</td>\n",
       "    </tr>\n",
       "    <tr>\n",
       "      <th>1</th>\n",
       "      <td>74742/16</td>\n",
       "      <td>5193</td>\n",
       "      <td>134-10 101 AVE APT 1</td>\n",
       "      <td>1</td>\n",
       "      <td>06/08/2017</td>\n",
       "      <td>Robert</td>\n",
       "      <td>Renzulli</td>\n",
       "      <td>Residential</td>\n",
       "      <td>QUEENS</td>\n",
       "      <td>11419</td>\n",
       "      <td>Not an Ejectment</td>\n",
       "      <td>Possession</td>\n",
       "      <td>40.693497</td>\n",
       "      <td>-73.813489</td>\n",
       "      <td>9.0</td>\n",
       "      <td>28.0</td>\n",
       "      <td>152.0</td>\n",
       "      <td>4450612.0</td>\n",
       "      <td>4.095020e+09</td>\n",
       "      <td>Richmond Hill</td>\n",
       "    </tr>\n",
       "    <tr>\n",
       "      <th>2</th>\n",
       "      <td>50891/19</td>\n",
       "      <td>496507</td>\n",
       "      <td>2110 ARTHUR AVENUE</td>\n",
       "      <td>2</td>\n",
       "      <td>02/13/2020</td>\n",
       "      <td>Danny</td>\n",
       "      <td>Weinheim</td>\n",
       "      <td>Residential</td>\n",
       "      <td>BRONX</td>\n",
       "      <td>10457</td>\n",
       "      <td>Not an Ejectment</td>\n",
       "      <td>Possession</td>\n",
       "      <td>40.849868</td>\n",
       "      <td>-73.891292</td>\n",
       "      <td>6.0</td>\n",
       "      <td>15.0</td>\n",
       "      <td>373.0</td>\n",
       "      <td>2012027.0</td>\n",
       "      <td>2.030700e+09</td>\n",
       "      <td>East Tremont</td>\n",
       "    </tr>\n",
       "    <tr>\n",
       "      <th>3</th>\n",
       "      <td>340945/23</td>\n",
       "      <td>37543</td>\n",
       "      <td>1823 NARRAGANSETT AVENUE</td>\n",
       "      <td>NaN</td>\n",
       "      <td>07/23/2024</td>\n",
       "      <td>Edward</td>\n",
       "      <td>Guida</td>\n",
       "      <td>Residential</td>\n",
       "      <td>BRONX</td>\n",
       "      <td>10461</td>\n",
       "      <td>Not an Ejectment</td>\n",
       "      <td>Possession</td>\n",
       "      <td>40.852777</td>\n",
       "      <td>-73.848857</td>\n",
       "      <td>11.0</td>\n",
       "      <td>13.0</td>\n",
       "      <td>288.0</td>\n",
       "      <td>2046825.0</td>\n",
       "      <td>2.042030e+09</td>\n",
       "      <td>Pelham Parkway</td>\n",
       "    </tr>\n",
       "    <tr>\n",
       "      <th>4</th>\n",
       "      <td>59295/17</td>\n",
       "      <td>12167</td>\n",
       "      <td>62-60 60TH ROAD</td>\n",
       "      <td>NaN</td>\n",
       "      <td>09/12/2017</td>\n",
       "      <td>Edward</td>\n",
       "      <td>Guida</td>\n",
       "      <td>Residential</td>\n",
       "      <td>QUEENS</td>\n",
       "      <td>11378</td>\n",
       "      <td>Not an Ejectment</td>\n",
       "      <td>Possession</td>\n",
       "      <td>40.716371</td>\n",
       "      <td>-73.901098</td>\n",
       "      <td>5.0</td>\n",
       "      <td>30.0</td>\n",
       "      <td>601.0</td>\n",
       "      <td>4433508.0</td>\n",
       "      <td>4.027580e+09</td>\n",
       "      <td>Maspeth</td>\n",
       "    </tr>\n",
       "  </tbody>\n",
       "</table>\n",
       "</div>"
      ],
      "text/plain": [
       "  Court Index Number  Docket Number           Eviction Address  \\\n",
       "0           54296/20           11304      279 WEST 22ND STREET   \n",
       "1           74742/16            5193      134-10 101 AVE APT 1   \n",
       "2           50891/19          496507        2110 ARTHUR AVENUE   \n",
       "3          340945/23           37543  1823 NARRAGANSETT AVENUE   \n",
       "4           59295/17           12167           62-60 60TH ROAD   \n",
       "\n",
       "  Eviction Apartment Number Executed Date Marshal First Name  \\\n",
       "0                         5    11/21/2023              David   \n",
       "1                         1    06/08/2017             Robert   \n",
       "2                         2    02/13/2020              Danny   \n",
       "3                       NaN    07/23/2024             Edward   \n",
       "4                       NaN    09/12/2017             Edward   \n",
       "\n",
       "  Marshal Last Name Residential/Commercial    BOROUGH  Eviction Postcode  \\\n",
       "0             Smith            Residential  MANHATTAN              10011   \n",
       "1          Renzulli            Residential     QUEENS              11419   \n",
       "2          Weinheim            Residential      BRONX              10457   \n",
       "3             Guida            Residential      BRONX              10461   \n",
       "4             Guida            Residential     QUEENS              11378   \n",
       "\n",
       "          Ejectment Eviction/Legal Possession   Latitude  Longitude  \\\n",
       "0  Not an Ejectment                Possession  40.744426 -73.998466   \n",
       "1  Not an Ejectment                Possession  40.693497 -73.813489   \n",
       "2  Not an Ejectment                Possession  40.849868 -73.891292   \n",
       "3  Not an Ejectment                Possession  40.852777 -73.848857   \n",
       "4  Not an Ejectment                Possession  40.716371 -73.901098   \n",
       "\n",
       "   Community Board  Council District  Census Tract        BIN           BBL  \\\n",
       "0              4.0               3.0          91.0  1014101.0  1.007720e+09   \n",
       "1              9.0              28.0         152.0  4450612.0  4.095020e+09   \n",
       "2              6.0              15.0         373.0  2012027.0  2.030700e+09   \n",
       "3             11.0              13.0         288.0  2046825.0  2.042030e+09   \n",
       "4              5.0              30.0         601.0  4433508.0  4.027580e+09   \n",
       "\n",
       "                                          NTA  \n",
       "0  Hudson Yards-Chelsea-Flatiron-Union Square  \n",
       "1                               Richmond Hill  \n",
       "2                                East Tremont  \n",
       "3                              Pelham Parkway  \n",
       "4                                     Maspeth  "
      ]
     },
     "execution_count": 5,
     "metadata": {},
     "output_type": "execute_result"
    }
   ],
   "source": [
    "# Load the data\n",
    "nyc_evictions = pd.read_csv('data/Evictions_20241017.csv.gz', compression='gzip')\n",
    "nyc_evictions.head()"
   ]
  },
  {
   "cell_type": "code",
   "execution_count": 6,
   "metadata": {},
   "outputs": [
    {
     "data": {
      "text/plain": [
       "Residential/Commercial\n",
       "Residential    89286\n",
       "Commercial      9073\n",
       "Name: count, dtype: int64"
      ]
     },
     "execution_count": 6,
     "metadata": {},
     "output_type": "execute_result"
    }
   ],
   "source": [
    "# look at residential vs. commercial evictions\n",
    "nyc_evictions['Residential/Commercial'].value_counts()"
   ]
  },
  {
   "cell_type": "code",
   "execution_count": 11,
   "metadata": {},
   "outputs": [
    {
     "data": {
      "image/png": "[encoded data removed]",
      "text/plain": [
       "<Figure size 640x480 with 1 Axes>"
      ]
     },
     "metadata": {},
     "output_type": "display_data"
    }
   ],
   "source": [
    "# time period covered\n",
    "# convert to datetime\n",
    "nyc_evictions['Executed Date'] = pd.to_datetime(nyc_evictions['Executed Date'])\n",
    "\n",
    "# plot the number of evictions over time\n",
    "nyc_evictions['Executed Date'].hist(bins=100)\n",
    "plt.xlabel('Date')\n",
    "plt.ylabel('Number of Evictions')\n",
    "plt.title('Number of Evictions in NYC Over Time')\n",
    "plt.show()"
   ]
  },
  {
   "cell_type": "code",
   "execution_count": 13,
   "metadata": {},
   "outputs": [
    {
     "data": {
      "text/plain": [
       "BOROUGH\n",
       "BRONX            31161\n",
       "BROOKLYN         28284\n",
       "QUEENS           19075\n",
       "MANHATTAN        16214\n",
       "STATEN ISLAND     3625\n",
       "Name: count, dtype: int64"
      ]
     },
     "execution_count": 13,
     "metadata": {},
     "output_type": "execute_result"
    }
   ],
   "source": [
    "# spatial\n",
    "nyc_evictions['BOROUGH'].value_counts()"
   ]
  },
  {
   "cell_type": "code",
   "execution_count": null,
   "metadata": {},
   "outputs": [],
   "source": []
  }
 ],
 "metadata": {
  "kernelspec": {
   "display_name": ".venv",
   "language": "python",
   "name": "python3"
  },
  "language_info": {
   "codemirror_mode": {
    "name": "ipython",
    "version": 3
   },
   "file_extension": ".py",
   "mimetype": "text/x-python",
   "name": "python",
   "nbconvert_exporter": "python",
   "pygments_lexer": "ipython3",
   "version": "3.12.3"
  }
 },
 "nbformat": 4,
 "nbformat_minor": 2
}
